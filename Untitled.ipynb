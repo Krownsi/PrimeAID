{
 "cells": [
  {
   "cell_type": "code",
   "execution_count": 1,
   "metadata": {},
   "outputs": [],
   "source": [
    "import pandas as pd\n",
    "import numpy as np"
   ]
  },
  {
   "cell_type": "code",
   "execution_count": 52,
   "metadata": {},
   "outputs": [
    {
     "name": "stdout",
     "output_type": "stream",
     "text": [
      "           rating\n",
      "count  100.000000\n",
      "mean     2.040000\n",
      "std      1.302057\n",
      "min      0.000000\n",
      "25%      1.000000\n",
      "50%      2.000000\n",
      "75%      3.000000\n",
      "max      4.000000\n",
      "\n",
      "The most common value in the er_time is Greater than 4, featured 53% of the time\n",
      "The most common value in the walk_in_time is 2 to 4 hours, featured 32% of the time\n",
      "The most common value in the description  is Slow, featured 8% of the time\n"
     ]
    }
   ],
   "source": [
    "df = pd.read_csv('./DobsonSurvey-2.csv', index_col = False, header=None,names=['timestamp','experience','er_time','walk_in_time','rating','description'])\n",
    "df.drop(['timestamp'], axis = 1)\n",
    "df = df[df.experience != \"No\"]\n",
    "df = df[df.rating != 5]\n",
    "print(df.describe())\n",
    "print()\n",
    "print(\"The most common value in the er_time is {}, featured {}% of the time\".format(df['er_time'].value_counts().idxmax(),df['er_time'].value_counts().max()))\n",
    "print(\"The most common value in the walk_in_time is {}, featured {}% of the time\".format(df['walk_in_time'].value_counts().idxmax(),df['walk_in_time'].value_counts().max()))\n",
    "print(\"The most common value in the description  is {}, featured {}% of the time\".format(df['description'].value_counts().idxmax(),df['description'].value_counts().max()))"
   ]
  },
  {
   "cell_type": "code",
   "execution_count": null,
   "metadata": {},
   "outputs": [],
   "source": []
  }
 ],
 "metadata": {
  "kernelspec": {
   "display_name": "Python 3",
   "language": "python",
   "name": "python3"
  },
  "language_info": {
   "codemirror_mode": {
    "name": "ipython",
    "version": 3
   },
   "file_extension": ".py",
   "mimetype": "text/x-python",
   "name": "python",
   "nbconvert_exporter": "python",
   "pygments_lexer": "ipython3",
   "version": "3.7.3"
  }
 },
 "nbformat": 4,
 "nbformat_minor": 2
}
